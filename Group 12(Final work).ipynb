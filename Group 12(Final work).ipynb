{
 "cells": [
  {
   "cell_type": "markdown",
   "metadata": {},
   "source": [
    "# Big Data Modeling and Management Assigment - Homework 1"
   ]
  },
  {
   "cell_type": "markdown",
   "metadata": {},
   "source": [
    "# Submission\n",
    "\n",
    "GROUP NUMBER: **12** - please add your group number into the file name\n",
    "\n",
    "GROUP MEMBERS:\n",
    "\n",
    "|STUDENT NAME|STUDENT NUMBER|\n",
    "|---|---|\n",
    "|Antonio Ramos |20240561|\n",
    "|Tahiya Jahan Laboni|20240943|\n",
    "|Joao Cardoso|20240529|"
   ]
  },
  {
   "cell_type": "markdown",
   "metadata": {},
   "source": [
    "## 🍺 The Beer project  🍺 \n",
    "\n",
    "As it was shown in classes, graph databases are a natural way of navegating related information. For this first project we will be taking a graph database to analyse beer and breweries!   \n",
    "\n",
    "The project datasets are based on [kaggle](https://www.kaggle.com/ehallmar/beers-breweries-and-beer-reviews), released by Evan Hallmark. \n",
    "\n",
    "### Problem description\n",
    "\n",
    "Imagine you are working in the Data Management department of Analytics company.\n",
    "Explore the database via python neo4j connector and/or the graphical tool in the NEO4J webpage. Answer the questions while adjusting the database to meet the needs of your colleagues.\n",
    "Please record and keep track of your database changes, and submit the file with all cells run and with the output shown.\n",
    "\n",
    "### Questions\n",
    "\n",
    "1. Explore the database: get familiar with current schema, elements and other important database parameters. [1 point]\n",
    "2. Adjust the database and mention reasoning behind: e.g. clean errors, remove redundancies, adjust schema as necessary. Visualize the final version of database schema. [4 points]\n",
    "3. Analytics department requires the following information for the biweekly reporting: [5 points]\n",
    "    1. How many reviews has the beer with the most reviews?\n",
    "    2. Which three users wrote the most reviews about beers?\n",
    "    3. Find all beers that are described with following words: 'fruit', 'complex', 'nutty', 'dark'.\n",
    "    4. Which top three breweries produce the largest variety of beer styles?\n",
    "    5. Which country produces the most beer styles?\n",
    "4. Market Analysis department in your company accesses and updates the trends data on the daily basis. Given that, consider how you need to optimize the database and its performance so that the following queries are efficient. Measure performance to communicate your improvements using PROFILE before final query. Answer the following: [4 points]\n",
    "    1. Using ABV score, find five strongest beers, display their ABV score and the corresponding brewery? Keep in mind that the strongest known beer is Snake Venom, and deal with the error entries in the database.\n",
    "    2. Using the answer from question 2, find the top 5 distict beer styles with the highest average score of smell + feel that were reviewed by the third most productive user. Keep in mind that cleaning the database earlier should ensure correct results.\n",
    "5. Answer **two out of four** of the following questions using Graph Algorithms (gds): [NB: make sure to clear the graph before using it again] For the quarterly report, Analytics department the follownig information. [6 points]\n",
    "    1. Which two countries are most similiar when it comes to their top five most produced Beer styles?\n",
    "    2. Which beer is the most popular when considering the number of users who reviewed it? \n",
    "    3. Users are connected together by their reviews of beers, taking into consideration the \"smell\" score they assign as a weight, how many communities are formed from these relationships? How many users are in the three largest communities? \n",
    "    4. Which user is the most influential when it comes to reviews of distinct beers by style?\n",
    " \n",
    "### Groups  \n",
    "\n",
    "Groups should have 4 people maximum. Please mark which group you are here: https://shorturl.at/zE0QP \n",
    "\n",
    "### Submission      \n",
    "\n",
    "The code used to produce the results and to-the-point explations should be uploaded to moodle. They should have a clear reference to the group, either on the file name or on the document itself. Preferably one Jupyter notebook per group.\n",
    "\n",
    "Delivery date: Until the **midnight of March 18, 2025**\n",
    "\n",
    "### Evaluation   \n",
    "\n",
    "This will be 20% of the final grade.   \n",
    "Each solution will be evaluated on 2 components: correctness of results and efficiency of the query (based on database schema).  \n",
    "All code will go through plagiarism automated checks. Groups with the same code will undergo investigation."
   ]
  },
  {
   "cell_type": "markdown",
   "metadata": {},
   "source": [
    "## Loading the Database\n",
    "\n",
    "#### Be sure that you **don't have** the neo4j docker container from the classes running (you can Stop it in the desktop app or with the command \"`docker stop Neo4JLab`\")\n",
    "\n",
    "\n",
    "The default container does not have any data whatsoever, we will have to load a database into our docker image:\n",
    "- Download and unzip the `Neo4JHWData` file provided in Moodle.\n",
    "- Copy the path of the `Neo4JHWData` folder of the unziped file, e.g. `C:/PATH/Neo4JHWData/data`.\n",
    "- Download and unzip the `Neo4JPlugins` file provided in Moodle.\n",
    "- Copy the path of the `Neo4JPlugins` folder of the unziped file, e.g. `C:/PATH/Neo4Jplugins`.\n",
    "- Change the code below accordingly. As you might have noticed, you do not have a user called `nunoa`, please use the appropriate path that you got from the previous step. Be sure that you have a neo4j docker container running: \\\n",
    "\n",
    "`docker run --name Neo4JHW2025 -p 7474:7474 -p 7687:7687 -d -v \"c:\\PATH\\Neo4JPlugins\":/plugins -v \"c:\\PATH\\Neo4JHWData\\data\":/data --env NEO4J_AUTH=neo4j/test --env NEO4J_dbms_connector_https_advertised__address=\"localhost:7473\" --env NEO4J_dbms_connector_http_advertised__address=\"localhost:7474\" --env NEO4J_dbms_connector_bolt_advertised__address=\"localhost:7687\" --env NEO4J_dbms_security_procedures_unrestricted=gds.* --env NEO4J_dbms_security_procedures_allowlist=\"gds.*\" neo4j:4.4.5`\n",
    "\n",
    "- Since Neo4j is trying to recognize a new database folder, this might take a bit (let's say 3 minutes), so don't worry.\n",
    "\n",
    "If the neo4j browser fails to load gds plugins, run the following in the Command Prompt before creating the container again:\n",
    "`// Remove stopped containers //\n",
    "docker container prune -f\n",
    "// Remove unused images //\n",
    "docker image prune -a -f\n",
    "// Remove unused volumes //\n",
    "docker volume prune -f\n",
    "// Remove unused networks //\n",
    "docker network prune -f\n",
    "// Remove all unused resources in one command //\n",
    "docker system prune -a -f`"
   ]
  },
  {
   "cell_type": "code",
   "execution_count": 31,
   "metadata": {
    "ExecuteTime": {
     "end_time": "2024-02-29T21:45:57.447501Z",
     "start_time": "2024-02-29T21:45:56.625014Z"
    }
   },
   "outputs": [],
   "source": [
    "from neo4j import GraphDatabase\n",
    "from pprint import pprint"
   ]
  },
  {
   "cell_type": "code",
   "execution_count": 32,
   "metadata": {
    "ExecuteTime": {
     "end_time": "2024-02-29T21:46:09.652569Z",
     "start_time": "2024-02-29T21:46:09.648166Z"
    }
   },
   "outputs": [],
   "source": [
    "from neo4j import GraphDatabase\n",
    "from pprint import pprint\n",
    "\n",
    "# Connection details\n",
    "NEO4J_URI = \"bolt://localhost:7687\"\n",
    "NEO4J_USERNAME = \"neo4j\"\n",
    "NEO4J_PASSWORD = \"test\"\n",
    "\n",
    "# Create Neo4j driver\n",
    "driver = GraphDatabase.driver(NEO4J_URI, auth=(NEO4J_USERNAME, NEO4J_PASSWORD))"
   ]
  },
  {
   "cell_type": "code",
   "execution_count": 33,
   "metadata": {
    "ExecuteTime": {
     "end_time": "2024-02-29T21:46:10.939324Z",
     "start_time": "2024-02-29T21:46:10.934651Z"
    }
   },
   "outputs": [],
   "source": [
    "driver = GraphDatabase.driver(NEO4J_URI, auth=(NEO4J_USERNAME, NEO4J_PASSWORD), )"
   ]
  },
  {
   "cell_type": "code",
   "execution_count": 34,
   "metadata": {},
   "outputs": [],
   "source": [
    "def execute_write(driver, query):\n",
    "    with driver.session(database=\"neo4j\") as session:\n",
    "        # Write transactions allow the driver to handle retries and transient errors\n",
    "        result = session.execute_write(lambda tx, query: list(tx.run(query)), query)\n",
    "    return result"
   ]
  },
  {
   "cell_type": "code",
   "execution_count": 35,
   "metadata": {
    "ExecuteTime": {
     "end_time": "2024-02-29T21:46:14.291655Z",
     "start_time": "2024-02-29T21:46:14.286865Z"
    }
   },
   "outputs": [],
   "source": [
    "def execute_read(driver, query):    \n",
    "    with driver.session(database=\"neo4j\") as session:\n",
    "        result = session.execute_read(lambda tx, query: list(tx.run(query)), query)\n",
    "    return result"
   ]
  },
  {
   "cell_type": "markdown",
   "metadata": {},
   "source": [
    "<span style=\"color:salmon\"> 1. Explore the database: get familiar with current schema, elements and other important database parameters. [1 point]<span>"
   ]
  },
  {
   "cell_type": "markdown",
   "metadata": {},
   "source": [
    "`Step 1: Schema`"
   ]
  },
  {
   "cell_type": "code",
   "execution_count": 38,
   "metadata": {},
   "outputs": [
    {
     "name": "stdout",
     "output_type": "stream",
     "text": [
      "[<Record nodes=[<Node element_id='-33' labels=frozenset({'REVIEWS'}) properties={'name': 'REVIEWS', 'indexes': ['id'], 'constraints': []}>, <Node element_id='-32' labels=frozenset({'BEERS'}) properties={'name': 'BEERS', 'indexes': ['id'], 'constraints': []}>, <Node element_id='-29' labels=frozenset({'COUNTRIES'}) properties={'name': 'COUNTRIES', 'indexes': ['name'], 'constraints': []}>, <Node element_id='-31' labels=frozenset({'BREWERIES'}) properties={'name': 'BREWERIES', 'indexes': ['id'], 'constraints': []}>, <Node element_id='-34' labels=frozenset({'STYLE'}) properties={'name': 'STYLE', 'indexes': ['name'], 'constraints': []}>, <Node element_id='-30' labels=frozenset({'CITIES'}) properties={'name': 'CITIES', 'indexes': ['name'], 'constraints': []}>, <Node element_id='-35' labels=frozenset({'USER'}) properties={'name': 'USER', 'indexes': ['name'], 'constraints': []}>] relationships=[<Relationship element_id='-33' nodes=(<Node element_id='-32' labels=frozenset({'BEERS'}) properties={'name': 'BEERS', 'indexes': ['id'], 'constraints': []}>, <Node element_id='-33' labels=frozenset({'REVIEWS'}) properties={'name': 'REVIEWS', 'indexes': ['id'], 'constraints': []}>) type='REVIEWED' properties={}>, <Relationship element_id='-34' nodes=(<Node element_id='-31' labels=frozenset({'BREWERIES'}) properties={'name': 'BREWERIES', 'indexes': ['id'], 'constraints': []}>, <Node element_id='-32' labels=frozenset({'BEERS'}) properties={'name': 'BEERS', 'indexes': ['id'], 'constraints': []}>) type='BREWED' properties={}>, <Relationship element_id='-38' nodes=(<Node element_id='-31' labels=frozenset({'BREWERIES'}) properties={'name': 'BREWERIES', 'indexes': ['id'], 'constraints': []}>, <Node element_id='-30' labels=frozenset({'CITIES'}) properties={'name': 'CITIES', 'indexes': ['name'], 'constraints': []}>) type='IN' properties={}>, <Relationship element_id='-36' nodes=(<Node element_id='-30' labels=frozenset({'CITIES'}) properties={'name': 'CITIES', 'indexes': ['name'], 'constraints': []}>, <Node element_id='-30' labels=frozenset({'CITIES'}) properties={'name': 'CITIES', 'indexes': ['name'], 'constraints': []}>) type='IN' properties={}>, <Relationship element_id='-37' nodes=(<Node element_id='-31' labels=frozenset({'BREWERIES'}) properties={'name': 'BREWERIES', 'indexes': ['id'], 'constraints': []}>, <Node element_id='-29' labels=frozenset({'COUNTRIES'}) properties={'name': 'COUNTRIES', 'indexes': ['name'], 'constraints': []}>) type='IN' properties={}>, <Relationship element_id='-35' nodes=(<Node element_id='-30' labels=frozenset({'CITIES'}) properties={'name': 'CITIES', 'indexes': ['name'], 'constraints': []}>, <Node element_id='-29' labels=frozenset({'COUNTRIES'}) properties={'name': 'COUNTRIES', 'indexes': ['name'], 'constraints': []}>) type='IN' properties={}>, <Relationship element_id='-39' nodes=(<Node element_id='-32' labels=frozenset({'BEERS'}) properties={'name': 'BEERS', 'indexes': ['id'], 'constraints': []}>, <Node element_id='-34' labels=frozenset({'STYLE'}) properties={'name': 'STYLE', 'indexes': ['name'], 'constraints': []}>) type='HAS_STYLE' properties={}>, <Relationship element_id='-40' nodes=(<Node element_id='-33' labels=frozenset({'REVIEWS'}) properties={'name': 'REVIEWS', 'indexes': ['id'], 'constraints': []}>, <Node element_id='-35' labels=frozenset({'USER'}) properties={'name': 'USER', 'indexes': ['name'], 'constraints': []}>) type='POSTED' properties={}>]>]\n"
     ]
    }
   ],
   "source": [
    "query = \"\"\"\n",
    "        CALL db.schema.visualization();\n",
    "    \"\"\"\n",
    "\n",
    "result = execute_read(driver, query)\n",
    "\n",
    "pprint(result)"
   ]
  },
  {
   "cell_type": "markdown",
   "metadata": {},
   "source": [
    "`Step 2: check all node labels `"
   ]
  },
  {
   "cell_type": "code",
   "execution_count": 40,
   "metadata": {},
   "outputs": [
    {
     "name": "stdout",
     "output_type": "stream",
     "text": [
      "[<Record label='COUNTRIES'>,\n",
      " <Record label='CITIES'>,\n",
      " <Record label='BREWERIES'>,\n",
      " <Record label='BEERS'>,\n",
      " <Record label='REVIEWS'>,\n",
      " <Record label='STYLE'>,\n",
      " <Record label='USER'>]\n"
     ]
    }
   ],
   "source": [
    "query = \"\"\"\n",
    "        CALL db.labels();\n",
    "    \"\"\"\n",
    "\n",
    "result = execute_read(driver, query)\n",
    "\n",
    "pprint(result)"
   ]
  },
  {
   "cell_type": "markdown",
   "metadata": {},
   "source": [
    "`Step 3: Check all relationship types`"
   ]
  },
  {
   "cell_type": "code",
   "execution_count": 42,
   "metadata": {},
   "outputs": [
    {
     "name": "stdout",
     "output_type": "stream",
     "text": [
      "[<Record relationshipType='REVIEWED'>,\n",
      " <Record relationshipType='BREWED'>,\n",
      " <Record relationshipType='IN'>,\n",
      " <Record relationshipType='HAS_STYLE'>,\n",
      " <Record relationshipType='POSTED'>]\n"
     ]
    }
   ],
   "source": [
    "query = \"\"\"\n",
    "        CALL db.relationshipTypes();\n",
    "    \"\"\"\n",
    "\n",
    "result = execute_read(driver, query)\n",
    "\n",
    "pprint(result)"
   ]
  },
  {
   "cell_type": "markdown",
   "metadata": {},
   "source": [
    "`Step 4: Check all property keys`"
   ]
  },
  {
   "cell_type": "code",
   "execution_count": 44,
   "metadata": {},
   "outputs": [
    {
     "name": "stdout",
     "output_type": "stream",
     "text": [
      "[<Record propertyKey='name'>,\n",
      " <Record propertyKey='types'>,\n",
      " <Record propertyKey='notes'>,\n",
      " <Record propertyKey='state'>,\n",
      " <Record propertyKey='id'>,\n",
      " <Record propertyKey='abv'>,\n",
      " <Record propertyKey='retired'>,\n",
      " <Record propertyKey='availability'>,\n",
      " <Record propertyKey='brewery_id'>,\n",
      " <Record propertyKey='date'>,\n",
      " <Record propertyKey='score'>,\n",
      " <Record propertyKey='taste'>,\n",
      " <Record propertyKey='feel'>,\n",
      " <Record propertyKey='overall'>,\n",
      " <Record propertyKey='beer_id'>,\n",
      " <Record propertyKey='text'>,\n",
      " <Record propertyKey='smell'>,\n",
      " <Record propertyKey='look'>,\n",
      " <Record propertyKey='ABV'>]\n"
     ]
    }
   ],
   "source": [
    "# Check all property keys\n",
    "query = \"\"\"\n",
    "        CALL db.propertyKeys()\n",
    "    \"\"\"\n",
    "\n",
    "result = execute_read(driver, query)\n",
    "\n",
    "pprint(result)"
   ]
  },
  {
   "cell_type": "markdown",
   "metadata": {},
   "source": [
    "`Step 5: check total number of nodes in the database`"
   ]
  },
  {
   "cell_type": "code",
   "execution_count": 46,
   "metadata": {},
   "outputs": [
    {
     "name": "stdout",
     "output_type": "stream",
     "text": [
      "[<Record Total_Nodes=3141348>]\n"
     ]
    }
   ],
   "source": [
    "# check total number of nodes in the database\n",
    "query = \"\"\"\n",
    "        MATCH (n) RETURN COUNT(n) AS Total_Nodes\n",
    "      \"\"\"\n",
    "result = execute_read(driver, query)\n",
    "pprint(result)"
   ]
  },
  {
   "cell_type": "markdown",
   "metadata": {},
   "source": [
    "`Step 6: check total number of relationships in the database`"
   ]
  },
  {
   "cell_type": "code",
   "execution_count": 48,
   "metadata": {},
   "outputs": [
    {
     "name": "stdout",
     "output_type": "stream",
     "text": [
      "[<Record Total_Relationships=6332824>]\n"
     ]
    }
   ],
   "source": [
    "# check total number of relationships in the database\n",
    "query = \"\"\"\n",
    "        MATCH (n)-[r]->() RETURN COUNT(r) AS Total_Relationships\n",
    "      \"\"\"\n",
    "result = execute_read(driver, query)\n",
    "pprint(result)"
   ]
  },
  {
   "cell_type": "markdown",
   "metadata": {},
   "source": [
    "\n",
    "<span style=\"color:salmon\">2. Adjust the database and mention reasoning behind: e.g. clean errors, remove redundancies, adjust schema as necessary. Visualize the final version of database schema. [4 points]\n",
    "- We have to work with:\n",
    "  1. Duplicate Beer records\n",
    "  2. Beers not linked to breweries\n",
    "  3. Redundand or missing relationships\n",
    "  4. All adjustments here intend to improve database consistency<span>"
   ]
  },
  {
   "cell_type": "markdown",
   "metadata": {},
   "source": [
    "`Step 2.1 : Removing nodes without relationships`"
   ]
  },
  {
   "cell_type": "code",
   "execution_count": 51,
   "metadata": {},
   "outputs": [
    {
     "name": "stdout",
     "output_type": "stream",
     "text": [
      "[<Record COUNT(c)=0>]\n"
     ]
    }
   ],
   "source": [
    "#counting\n",
    "\n",
    "query = \"\"\"\n",
    "MATCH(c)\n",
    "WHERE NOT EXISTS ((c)-[]-())\n",
    "RETURN COUNT(c)\n",
    "\"\"\"\n",
    "\n",
    "result = execute_read(driver, query)\n",
    "\n",
    "pprint(result)"
   ]
  },
  {
   "cell_type": "code",
   "execution_count": 52,
   "metadata": {},
   "outputs": [
    {
     "name": "stdout",
     "output_type": "stream",
     "text": [
      "[]\n"
     ]
    }
   ],
   "source": [
    "#dropping\n",
    "\n",
    "query = \"\"\"\n",
    "MATCH(c)\n",
    "WHERE NOT EXISTS ((c)-[]-())\n",
    "DETACH DELETE c\n",
    "\"\"\"\n",
    "\n",
    "result = execute_write(driver, query)\n",
    "\n",
    "pprint(result)"
   ]
  },
  {
   "cell_type": "markdown",
   "metadata": {},
   "source": [
    "`Step 2.2: Fixing possible Beers Not Linked to Breweries`"
   ]
  },
  {
   "cell_type": "code",
   "execution_count": 54,
   "metadata": {},
   "outputs": [
    {
     "name": "stdout",
     "output_type": "stream",
     "text": [
      "[<Record COUNT(b)=417746>]\n"
     ]
    }
   ],
   "source": [
    "#Total Beers\n",
    "\n",
    "query = \"\"\"\n",
    "        MATCH (b:BEERS)\n",
    "        RETURN COUNT(b)\n",
    "    \"\"\"\n",
    "\n",
    "result = execute_read(driver, query)\n",
    "\n",
    "pprint(result)"
   ]
  },
  {
   "cell_type": "code",
   "execution_count": 55,
   "metadata": {},
   "outputs": [
    {
     "name": "stdout",
     "output_type": "stream",
     "text": [
      "[<Record COUNT(b)=0>]\n"
     ]
    }
   ],
   "source": [
    "#Beers Not Linked to Breweries count\n",
    "\n",
    "query = \"\"\"\n",
    "        MATCH (b:BEERS)\n",
    "        WHERE NOT EXISTS((b)<-[:BREWED]-(:BREWERIES))\n",
    "        RETURN COUNT(b)\n",
    "    \"\"\"\n",
    "\n",
    "result = execute_read(driver, query)\n",
    "\n",
    "pprint(result)"
   ]
  },
  {
   "cell_type": "code",
   "execution_count": 56,
   "metadata": {},
   "outputs": [
    {
     "name": "stderr",
     "output_type": "stream",
     "text": [
      "Received notification from DBMS server: {severity: WARNING} {code: Neo.ClientNotification.Statement.FeatureDeprecationWarning} {category: } {title: This feature is deprecated and will be removed in future versions.} {description: Coercion of list to boolean is deprecated. Please consider using `NOT isEmpty(...)` instead.} {position: line: 3, column: 27, offset: 43} for query: '\\n        MATCH (b:BEERS)\\n        WHERE NOT (b)<-[:BREWED]-(:BREWERIES)\\n        AND EXISTS ((b)-[]-())\\n        RETURN count(b)\\n    '\n"
     ]
    },
    {
     "name": "stdout",
     "output_type": "stream",
     "text": [
      "[<Record count(b)=0>]\n"
     ]
    }
   ],
   "source": [
    "#Beers Not Linked to Breweries, but linked to anything else \n",
    "\n",
    "query = \"\"\"\n",
    "        MATCH (b:BEERS)\n",
    "        WHERE NOT (b)<-[:BREWED]-(:BREWERIES)\n",
    "        AND EXISTS ((b)-[]-())\n",
    "        RETURN count(b)\n",
    "    \"\"\"\n",
    "\n",
    "result = execute_read(driver, query)\n",
    "\n",
    "pprint(result)\n",
    "\n",
    "#nothing to do"
   ]
  },
  {
   "cell_type": "markdown",
   "metadata": {},
   "source": [
    "`Step 2.3: Duplicates`"
   ]
  },
  {
   "cell_type": "code",
   "execution_count": 58,
   "metadata": {},
   "outputs": [
    {
     "name": "stdout",
     "output_type": "stream",
     "text": [
      "[<Record count(c)=11665>]\n"
     ]
    }
   ],
   "source": [
    "#CITIES count\n",
    "\n",
    "query = \"\"\"\n",
    "MATCH (c:CITIES)\n",
    "RETURN count(c)\n",
    "    \"\"\"\n",
    "\n",
    "result = execute_read(driver, query)\n",
    "\n",
    "pprint(result)"
   ]
  },
  {
   "cell_type": "code",
   "execution_count": 59,
   "metadata": {},
   "outputs": [
    {
     "name": "stdout",
     "output_type": "stream",
     "text": [
      "[<Record count(name)=0>]\n"
     ]
    }
   ],
   "source": [
    "#CITIES Duplicates\n",
    "\n",
    "query = \"\"\"\n",
    "MATCH (c:CITIES)\n",
    "WITH c.name AS name, COUNT(c) AS count\n",
    "WHERE count > 1\n",
    "RETURN count(name)\n",
    "    \"\"\"\n",
    "\n",
    "result = execute_read(driver, query)\n",
    "\n",
    "pprint(result)\n",
    "\n",
    "#nothing to do"
   ]
  },
  {
   "cell_type": "code",
   "execution_count": 60,
   "metadata": {},
   "outputs": [
    {
     "name": "stdout",
     "output_type": "stream",
     "text": [
      "[<Record count(c)=200>]\n"
     ]
    }
   ],
   "source": [
    "#COUNTRIES count\n",
    "\n",
    "query = \"\"\"\n",
    "MATCH (c:COUNTRIES)\n",
    "RETURN count(c)\n",
    "    \"\"\"\n",
    "\n",
    "result = execute_read(driver, query)\n",
    "\n",
    "pprint(result)"
   ]
  },
  {
   "cell_type": "code",
   "execution_count": 61,
   "metadata": {},
   "outputs": [
    {
     "name": "stdout",
     "output_type": "stream",
     "text": [
      "[<Record count(name)=0>]\n"
     ]
    }
   ],
   "source": [
    "#COUNTRIES Duplicates\n",
    "\n",
    "query = \"\"\"\n",
    "MATCH (c:COUNTRIES)\n",
    "WITH c.name AS name, COUNT(c) AS count\n",
    "WHERE count > 1\n",
    "RETURN count(name)\n",
    "    \"\"\"\n",
    "\n",
    "result = execute_read(driver, query)\n",
    "\n",
    "pprint(result)\n",
    "\n",
    "#nothing to do"
   ]
  },
  {
   "cell_type": "markdown",
   "metadata": {},
   "source": [
    "`Step 2.4: Finding Duplicate Breweries`"
   ]
  },
  {
   "cell_type": "code",
   "execution_count": 63,
   "metadata": {},
   "outputs": [
    {
     "name": "stdout",
     "output_type": "stream",
     "text": [
      "[<Record count(name)=17909>]\n"
     ]
    }
   ],
   "source": [
    "#total names duplicated\n",
    "\n",
    "query = \"\"\"\n",
    "MATCH (c:BREWERIES)\n",
    "WITH c.name AS name, COUNT(c) AS count\n",
    "WHERE count > 1\n",
    "RETURN count(name)\n",
    "\"\"\"\n",
    "\n",
    "result = execute_read(driver, query)\n",
    "pprint(result)"
   ]
  },
  {
   "cell_type": "markdown",
   "metadata": {},
   "source": [
    "* cell below to merge brewiries with the same name"
   ]
  },
  {
   "cell_type": "markdown",
   "metadata": {},
   "source": [
    "`Step 2.5: Finding duplicate beer names`"
   ]
  },
  {
   "cell_type": "code",
   "execution_count": 66,
   "metadata": {},
   "outputs": [
    {
     "name": "stdout",
     "output_type": "stream",
     "text": [
      "[<Record count(name)=65093>]\n"
     ]
    }
   ],
   "source": [
    "#total names duplicated\n",
    "\n",
    "query = \"\"\"\n",
    "MATCH (c:BEERS)\n",
    "WITH c.name AS name, COUNT(c) AS count\n",
    "WHERE count > 1\n",
    "RETURN count(name)\n",
    "\"\"\"\n",
    "\n",
    "result = execute_read(driver, query)\n",
    "pprint(result)"
   ]
  },
  {
   "cell_type": "markdown",
   "metadata": {},
   "source": [
    "`Step 2.5: Finding Beers with invalid ABV values`"
   ]
  },
  {
   "cell_type": "code",
   "execution_count": 68,
   "metadata": {},
   "outputs": [
    {
     "name": "stdout",
     "output_type": "stream",
     "text": [
      "[<Record COUNT(br)=417746>]\n"
     ]
    }
   ],
   "source": [
    "query = \"\"\"\n",
    "    MATCH (br:BEERS)\n",
    "    WHERE br.ABV IS NULL OR br.ABV <= 0 OR toLower(br.ABV) = \"nan\"\n",
    "    RETURN COUNT(br)\n",
    "\"\"\"\n",
    "result = execute_read(driver, query)\n",
    "pprint(result)"
   ]
  },
  {
   "cell_type": "code",
   "execution_count": 69,
   "metadata": {},
   "outputs": [
    {
     "name": "stdout",
     "output_type": "stream",
     "text": [
      "[]\n"
     ]
    }
   ],
   "source": [
    "#we need to delete or update ABV values. This ABVs will be set to 0\n",
    "\n",
    "query = \"\"\"\n",
    "    MATCH (br:BEERS)\n",
    "    WHERE br.ABV IS NULL OR br.ABV <= 0 OR toLower(br.ABV) = \"nan\"\n",
    "    SET br.ABV = \"0\"\n",
    "\"\"\"\n",
    "\n",
    "result = execute_write(driver, query)\n",
    "pprint(result)"
   ]
  },
  {
   "cell_type": "code",
   "execution_count": 70,
   "metadata": {},
   "outputs": [
    {
     "name": "stdout",
     "output_type": "stream",
     "text": [
      "[]\n"
     ]
    }
   ],
   "source": [
    "#setting ABV to float (Question 4a)\n",
    "\n",
    "query = \"\"\"\n",
    "    MATCH (br:BEERS)\n",
    "    set br.ABV = toFloat(br.ABV)\n",
    "\"\"\"\n",
    "\n",
    "result = execute_write(driver, query)\n",
    "pprint(result)"
   ]
  },
  {
   "cell_type": "markdown",
   "metadata": {},
   "source": [
    "<span style=\"color:salmon\">Question 3: Analytics department requires the following information for the biweekly reporting:\n",
    "1. How many reviews has the beer with the most reviews?\n",
    "2. Which three users wrote the most reviews about beers?\n",
    "3. Find all beers that are described with following words: 'fruit', 'complex', 'nutty', 'dark'.\n",
    "4. Which top three breweries produce the largest variety of beer styles?\n",
    "5. Which country produces the most beer styles?</span>\n"
   ]
  },
  {
   "cell_type": "markdown",
   "metadata": {},
   "source": [
    "`Question 1: How many reviews has the beer with the most reviews?`"
   ]
  },
  {
   "cell_type": "code",
   "execution_count": 73,
   "metadata": {},
   "outputs": [
    {
     "name": "stdout",
     "output_type": "stream",
     "text": [
      "[<Record Beer_Name='IPA' Total_Reviews=8771>]\n"
     ]
    }
   ],
   "source": [
    "# Question 1: How many reviews has the beer with the most reviews?\n",
    "query = \"\"\"\n",
    "    MATCH (b:BEERS)-[:REVIEWED]->(r:REVIEWS)\n",
    "    RETURN b.name AS Beer_Name, COUNT(r) AS Total_Reviews\n",
    "    ORDER BY Total_Reviews DESC\n",
    "    LIMIT 1\n",
    "\"\"\"\n",
    "\n",
    "result = execute_read(driver, query)\n",
    "\n",
    "pprint(result)\n"
   ]
  },
  {
   "cell_type": "markdown",
   "metadata": {},
   "source": [
    "`Question 2: Which three users wrote the most reviews about beers?`"
   ]
  },
  {
   "cell_type": "code",
   "execution_count": 75,
   "metadata": {},
   "outputs": [
    {
     "name": "stdout",
     "output_type": "stream",
     "text": [
      "[<Record User='Sammy' Total_Reviews=3756>,\n",
      " <Record User='acurtis' Total_Reviews=3403>,\n",
      " <Record User='kylehay2004' Total_Reviews=3368>]\n"
     ]
    }
   ],
   "source": [
    "# Question 2: Which three users wrote the most reviews about beers?\n",
    "query = \"\"\"\n",
    "    MATCH (u:USER)<-[:POSTED]-(r:REVIEWS)\n",
    "    RETURN u.name AS User, COUNT(r) AS Total_Reviews\n",
    "    ORDER BY Total_Reviews DESC\n",
    "    LIMIT 3;\n",
    "\n",
    "\"\"\"\n",
    "\n",
    "result = execute_read(driver, query)\n",
    "\n",
    "pprint(result)\n"
   ]
  },
  {
   "cell_type": "markdown",
   "metadata": {},
   "source": [
    "`Question 3: Find all beers that are described with following words: 'fruit', 'complex', 'nutty', 'dark'.`"
   ]
  },
  {
   "cell_type": "code",
   "execution_count": 77,
   "metadata": {
    "scrolled": true
   },
   "outputs": [
    {
     "name": "stdout",
     "output_type": "stream",
     "text": [
      "[<Record Beer='Hefeweizen' Description='A pale, spicy, fruity, refreshing Hefeweizen originating in Southern Germany. The fast-maturing beer is lightly hopped with hallertau and shows a unique banana-and-clove yeast character. This is a specialty for summer consumption but enjoyed year-round by all. Prost!'>,\n",
      " <Record Beer='Wheat Ale' Description='A hefe-weizen with exotic top notes to the aromas. Predominantly banana with floral edges. On the palate the fruit notes continue with some caramel coming through on the rich elegant finish. Retains a good mousse throughout.'>,\n",
      " <Record Beer='Philadelphia Porter' Description='Originally enjoyed by the working class of England, porters inevitably became a staple in American brew pubs. Our interpretation is brewed with Caramel malt for a rich, toffee-like sweetness and a touch of East Kent Goldings hops. However, it’s the robust flavor of the black and chocolate malt that take center stage in this dark, full-bodied ale.'>,\n",
      " <Record Beer='Black Cherry Sherry Stout' Description='Medium bodied black beer with a fruity/cherry nose and hints of roasted malt and dark caramel that finishes with a subtle tartness. The beer undergoes a secondary fermentation in sherry barrels and with the addition of tart cherries.'>,\n",
      " <Record Beer='Cherry Lime Gose' Description='Our tart and salty Gose with cherries and limes. A tasteful balance between the fruits comes forward in both the aroma and flavor.'>,\n",
      " <Record Beer='East River IPA' Description=\"The East Coast IPA style focuses on balanced flavor and bitterness. Miner Brewing Company's version boasts juicy grapefruit and mango notes with refreshing, balanced bitterness in the finish.\">,\n",
      " <Record Beer='Eureka W/ Citra' Description=\"Our Jam! Eureka w/Citra explodes with citrus fruit on the nose and the palate , and finishes cleanly with light bits of cracker malt. Someone forgot to tell it that it's only 4.1% alcohol. A beautiful and pungent, yet delicate and highly drinkable beer!\">,\n",
      " <Record Beer='Estrella Galicia 1906 Black Coupage' Description='The term \"coupage\" is used in the wine world to refer to the blending of wines to make a finished product. Hijos de Rivera uses the term here to refer to the mixture of four traditionally floor-malted Czech barley malts which they use to brew this excellent lager. Pouring very dark brown – approaching black – with reddish flashes, 1906 Black Coupage offers up a wonderful aroma. Look for richly bready notes with toast, touches of licorice, raisin and dried figs, hints of coffee grounds and cocoa powder, and an overlay of lightly fruity and floral hop character. This brew isn\\'t shy on the palate either; there\\'s quite a roasty character, with notes of deeply toasted bread, roasted coffee, and hints of dark chocolate and nuts. Those dried fruit notes emerge in the flavor too, augmented by Sladek hops which often contribute a fruity note akin to peach along with a spiciness similar to Saaz hops.'>,\n",
      " <Record Beer='Dochter Seizoen' Description='This beer is a light and hoppy saison aged in wine barrels with our ever evolving house microflora. Notes of ripe fruity funk, subtle oak and that ineffable saison joie de vivre.'>,\n",
      " <Record Beer='Dry Stout' Description='Roasted coffee notes and slight malt bitterness from Black Barley, define this opaque dark Irish style ale. Pair this brew with smoked foods, roasts and desserts.'>,\n",
      " <Record Beer='St. Bretta Citrus Wildbier Gold Nugget Mandarin' Description='Citrus zest from Gold Nugget Mandarin citrus as well as lemongrass. St. Bretta Gold Nugget is the first batch of our Brettanomyces Citrus Wildbier that is not named after a season. By moving away from seasonality, we are able to put the focus on the fruit itself and allow for greater experimentation.'>,\n",
      " <Record Beer='Neustadt Texas Tea Honey Stout' Description='The use of all dark specialty malts makes this a very smooth drink. Enhanced with pure local honey to give a nice, sweeter mouth feel than a normal stout. “Absolutely no tea in the ingredients.”'>,\n",
      " <Record Beer='Muscle Memory' Description='A generous helping of oats make this Third Wave Pale Ale dangerously drinkable. Bursting with grapefruit, orange marmalade, passion fruit, and peach.'>,\n",
      " <Record Beer='Sorcerer' Description='Dark ruby brown Belgian style strong ale with complex flavors reminiscent of dried fruits. The sweet hints of raisin, fig and plum are accentuated with rock candy sugar then warmed away by the strength of the dry alcoholic finish.'>,\n",
      " <Record Beer='Blackberry Raspy' Description=\"Double the fruit of the original Lil' Raspy formulation, now with equal parts raspberries and blackberries.\">,\n",
      " <Record Beer='Belfast Ale' Description='A dark amber ale with a wonderful rich malt flavour and earthy aroma, brewed with three different hop varieties creating a distinctive bitterness and smooth finish.'>,\n",
      " <Record Beer='Beelzebub' Description='Beelzebub is an American Imperial Stout. The intensely smooth and rich roasted flavor is complemented by the unmistakable presence of hops. The bitterness is held in check, preserving the flavors of dark chocolate. This ale is aggressively dry hopped with Citra to cut through it all. Hail Santa.'>,\n",
      " <Record Beer='Treble Hook Tripel' Description='Nothing beats living on Flathead Lake besides fishing on Flathead Lake! So we had to name our Tripel in honor of the mighty three hook treble fishhook used by fishermen here in Montana. Our version pairs distinct Belgian yeast and mild sweetness. The aroma and flavor run complex: tart citrus, yeast, malty, apple, pear, white grape, alcohol warming, with a dry and spicy finish. Malt: pilsner, wheat, honey, and Turbinado sugar. Hops: Golding.'>,\n",
      " <Record Beer='Schwarz IPA' Description='All of your delicious malty flavors with the hops that you want in an IPA. Sit back and enjoy the delicious malts with the fruity aroma and bitterness of hops. If you’re looking for an IPA on our menu, try this twist on the popular beer.'>,\n",
      " <Record Beer='Le Peche Mode' Description='Classic saison brewed with natural Georgia peach juice from Lane Orchards. The peaches add a subtle fruit complexity and tartness to this traditional farmhouse ale. Unfiltered and bottle conditioned, this beer delivers a refreshing malt character and a long, dry finish.'>,\n",
      " <Record Beer='Highland IPA' Description='A statement from Appalachia. American Chinook, Citra, and Centennial hops from the Pacific Northwest shine in our first West Coast style IPA. A sturdy malt bill frames hints of tropical fruit, lemon rind, grapefruit and dank hops notes. Brilliant and golden in color. expect a dry, resiny, citrusy finish.'>,\n",
      " <Record Beer='King Leopold Belgian Stout (Healthy Spirits Barrel Aged)' Description='The newest in this series of exclusive bottlings has just been released! Healthy Spirits and San Francisco’s Triple Voodoo Brewing announce KING LEOPOLD Barrel-Aged Belgian Stout. Black as a rickhouse floor at midnight, this stout features American and European dark malts with a portion of rolled oats to supply the roasty, nutty, and full-bodied granular structure without heaviness on the palate. Belgian yeast ate all the sugars supplied by these grains, leaving behind a dry, clean finish. Oak barrel aging provided extra fermentation and a fleeting hint of woody spice. Limited to a mere ten cases produced, this represents one of the smallest runs of our exclusive ale series offered to our beer-loving patrons.'>,\n",
      " <Record Beer='Carton / Barrier - Smash The Golds' Description=\"Carton and Barrier brewed this bright, clean liquid gold to take this brutal summer across the finish line and kick off the glorious start of locals' summer. One golden malt, one golden hop, and the lager yeast of the Golden State fermented fast and warm to give pineapple aromatics to the star fruit, papaya, peach and citrus of heaps of 007: The Golden Hop throughout the brew. \">,\n",
      " <Record Beer='Granola Brown Ale' Description='Before a big pig roast we love to go on a long hike to get the blood flowin’ and our stomachs ready for a serious feast. to keep us going we pack a few bags of crunchy granola. then it came to us! granola brown allows us to have the best of both worlds- a refreshing brew with all the wonders of our delicious granola! take this beer on your next hike or hike one up to your lips for a satisfying energy packed libation. don’t want to pair your beer with a hike? try our granola brown with a nutty alpine cheese like springbrook tarentaise, comte or gruyere.'>,\n",
      " <Record Beer='Other Half/Burial - Diamond Mausoleum' Description='Cascadian Dark Ale'>,\n",
      " <Record Beer='Railbender Ale' Description='Erie Brewing Company flagship beer features a deep malt flavor, caramel sweetness lingering in a soft hop flavor. Dark Amber.'>,\n",
      " <Record Beer='Spring Pale Ale' Description='Throwback original California-style pale ale. Brewed with Magnum and loads of Cascade hops for a piney and grapefruity finish. Perfect accompaniment for grilled steaks and roasted vegetables.'>,\n",
      " <Record Beer='Tony Goes Dancing' Description='American Double IPA. Hazy and soft with notes of grapefruit and melon, this beer is brewed with six types of American and New Zealand hops.'>,\n",
      " <Record Beer='Lectio Divina' Description='Lectio Divina is a cross between an abbey double and a saison. Open fermentation with a saison strain and a dose of wild yeast at bottling add to the complexity.'>,\n",
      " <Record Beer='Mokra' Description='Brettanomyces is a wild yeast strain that can give beer interesting, delicious fruit flavors, but sometimes Brett can be a fickle fellow. The Brett we threw into this brew was defiant. However, sometimes when you let Brett sit for a while, it will come around. We decided to let it sit in Bourbon barrels. This experiment took a year and a half, but came together and developed into a delightful brew. '>,\n",
      " <Record Beer='Scratch Beer 182 - 2015 (Scottish-Style Ale)' Description='This hearty brew takes its inspiration from strong, malty ales brewed across the pond in Scotland. In the early 19th century, Scotch whiskey drinkers were well aware of the high quality of malt produced in Scotland, and the burgeoning whiskey market presented an abundance of barley. In turn, brewers decided to craft ales with very high malt bills, thus yielding the strong, malty, and sweet flavors that have become hallmarks of the Scottish Ale style. By the mid-19th century, Edinburgh was acknowledged as one of the foremost brewing cities in the world, a fact that any proud Scotsman would be honored to flaunt. The flavor of this rich, full-bodied ale stems from the malt profile, which exhibits complex notes of roasted and caramelized barley, dried dark fruit, chocolate, toasted nuts, and a faint hint of smoke.'>,\n",
      " <Record Beer='Nice Shirt!' Description='Caramel and dark dehusked malts with coffee shop Roast® maui yellow caturra beans roasted by the brewmaster.'>,\n",
      " <Record Beer='Park Hoppy' Description='A uniquely aromatic and refreshing beer, Park blends pilsner malt and pale wheat with Citra hops to create a modern interpretation on the witbier style. Bière de garde yeast elevate Park’s tart, grapefruit flavors, yielding a fresh yet dry finish to this single hopped design. Park’s pale sunshine color and clean flavor make this the perfect beer to enjoy on a picnic blanket or around the campfire.'>,\n",
      " <Record Beer='Petit Obscura' Description='Ale aged with Brettanomyces and Lactobacillus. Telegraph Petit Obscura is a \"small beer\" brewed from the sour-mash second runnings of a batch of our Rhinoceros Rye Wine. Historically, a small beer was brewed as a way of utilizing the remaining sugars that are otherwise lost when making a big high-gravity beer. With a crisp, fruity, white-wine-like character, our little obscure one is a light-bodied \"wild ale\" with a subtle complexity that transcends its humble origins.'>,\n",
      " <Record Beer='Black Metal Wild Imperial Stout' Description='First batch of Black Metal fermented with our house mixed culture. Naturally, because of its unique fermentation with native microorganisms, the beer is different than previous versions. We’re quite happy with how it turned out, and we’re excited to release it. However, for fans of the original Black Metal, or “O.G. Black Metal” as its known, we feel as though we need to borrow the famous line from Stone Brewing Co.‘s Arrogant Bastard Ale: “You probably won’t like it.” Like all our beer, the flavors and aromas of the current batch of Black Metal are very much fermentation derived and rely far less on copious amounts of malt and hops. This is what we like to drink. We like dry, balanced, drinkable, tart beers with some interesting yeast complexity. We feel we’ve achieved this with Black Metal, and hope others enjoy it as well. There will be those that don’t, however, and wish we’d return to the days of fermenting this beer with English ale yeast, and that’s OK.'>,\n",
      " <Record Beer='Prototype 9.29.15' Description='Prototype 9.29.15 is a Hoppy Amber Ale with aromas of fruit and berry combined with undercurrents of spice and pine. A balanced base of pale, toasted, and crystal malts provide fruit and caramel notes to the base which supports the aroma. The rich, amber hue reflects the depth of flavor in the glass, finishing dry and balanced on the tongue. A perfect pint to welcome the arrival of fall.'>,\n",
      " <Record Beer='Little Wagon Dagger' Description='A dark, malt-focused session ale with a wide range of dark malt and sugar expression.'>,\n",
      " <Record Beer='Iron Spike Copper' Description='With a rusty orange shade, Iron Spike Copper pours a thick and frothy cream coloured head. To the nose, caramel malts meet toasted spices with additional notes of chestnut and plum. Tastes of sweet caramel and butterscotch hit the palate first, followed by biscuit graininess, fruit, vanilla, rye, and spices. A nice hop bite comes forward mid-palate and lasts on the tongue. This medium to full-bodied ale is creamy and sweet with a lingering hoppy aftertaste.'>,\n",
      " <Record Beer='Corrosion' Description='Opening with massive aromas of fresh citrus and tropical fruits, Corrosion hits with a firm hop presence accentuated by an upfront acidity. Kettle-soured before finishing as an IPA, Corrosion is uniquely balanced between the world of sours and the world of hops.'>,\n",
      " <Record Beer=\"Thompson's Dry Stout\" Description='Sexy, black, opaque with tan silky head. Faint aroma of chocolate coffee, and dark malt. Not overly complicated, taste of iced coffee and toasted nuts on the back of the tongue. Drinkability is killer because the nitrogenation creates such a rich and creamy texture and straight forward taste.'>,\n",
      " <Record Beer='Pink Diamond' Description='Cherry blossom color, lychee and rose petals aromatics, grapefruit citrus flavor, light body.'>,\n",
      " <Record Beer='Great White Buffalo' Description='Great White Buffalo is a wheat wine with vanilla and coffee. This beer has notes of white chocolate, dark fruits, honey, and a hint of coffee. Richard took great pride in creating this recipe, and it is now known as his favorite Aslin beer.'>,\n",
      " <Record Beer='The Passion Of Johann' Description='Formerly Mind The Hop With Passionfruit And Vanilla'>,\n",
      " <Record Beer='Pist. Avocado Milk Stout' Description='Milk stout with real avocados for a creamy mouth-feel with a nutty finish from house-made pistachio butter.'>,\n",
      " <Record Beer='Hop Cooler' Description='Bright and tropical, this India Pale Ale brilliantly layers a citrusy blend of orange and tangerine with a robust hop profile. Crafted with real citrus and packed with as much flavor as a hop cooler, you won’t be able to stop at just one sip of this fresh and fruity beer.'>,\n",
      " <Record Beer='Belgian Tripel' Description='A golden, complex, strong Belgian ale with a full body. It finishes dry with some sweetness and a hint of cider.'>,\n",
      " <Record Beer='Island Reserve: Gose Beer' Description='The Gose is an uncommon style in modern times: an unfiltered wheat ale, brewed with a bit of salt. While salt seems like an unlikely ingredient, the result is a dry, spicy, lightly fruity, and flavorful beer.'>,\n",
      " <Record Beer='Barrel Aged Mastodon' Description='Belgian dark strong successively aged in a wine barrel followed by a whiskey barrel.'>,\n",
      " <Record Beer='Kleen' Description='Introduced in December 2008. Malts: Pale, Dark Caramel and some Black. Hops: East Kent Goldings. Dry hopped.'>,\n",
      " <Record Beer='10th Anniversary Thunder Hop IPA' Description='We are ready to unveil our anniversary beer. It is called Thunder Hop IPA. Many people are familiar with the pale ale variety called India Pale Ale a.k.a. IPA. This style was originally brewed by the 19th century British brewers for export to their troops stationed in India. Since it had to survive the 6 month trip in the hold of a ship, it contained more alcohol and a lot more hops than a typical Pale Ale. Hops and alcohol helped to prevent spoilage that might have ruined a batch of this precious brew. The Thunder Hop IPA is an American IPA which is an emerging style created by hop loving brewers. It has intense bitterness, flavor and aroma. We chose to use three varieties of American hops in the brewing process. The color is copper to amber, just a bit darker than the Pipe Organ Pale Ale. The aroma is noticeably hoppy due to the use of Sterlings in the dry hop process . You will also pick up a complexity from fruit-like esters. The body is big and malty with some caramel sweetness. You won\\x92t have to wait long for the finish, it comes Thundering in with intense bitterness. '>]\n"
     ]
    }
   ],
   "source": [
    "# Question 3: Find all beers that are described with following words: 'fruit', 'complex', 'nutty', 'dark'.\n",
    "query = \"\"\"\n",
    "    MATCH (b:BEERS)\n",
    "    Where toLower(b.notes) CONTAINS 'fruit'\n",
    "        OR toLower(b.notes) CONTAINS 'complex'\n",
    "        OR toLower(b.notes) CONTAINS 'nutty'\n",
    "        OR toLower(b.notes) CONTAINS 'dark'\n",
    "    RETURN b.name AS Beer, b.notes AS Description\n",
    "    LIMIT 50\n",
    "\n",
    "\"\"\"\n",
    "\n",
    "result = execute_read(driver, query)\n",
    "\n",
    "pprint(result)\n"
   ]
  },
  {
   "cell_type": "markdown",
   "metadata": {},
   "source": [
    "`Question 4: Which top three breweries produce the largest variety of beer styles?`"
   ]
  },
  {
   "cell_type": "code",
   "execution_count": 79,
   "metadata": {},
   "outputs": [
    {
     "name": "stdout",
     "output_type": "stream",
     "text": [
      "[<Record Brewery='Iron Hill Brewery & Restaurant' Total_Style=94>,\n",
      " <Record Brewery='Rock Bottom Restaurant & Brewery' Total_Style=93>,\n",
      " <Record Brewery='Goose Island Beer Co.' Total_Style=88>]\n"
     ]
    }
   ],
   "source": [
    "# Question 4: Which top three breweries produce the largest variety of beer styles?\n",
    "query = \"\"\"\n",
    "        MATCH (bre:BREWERIES)-[:BREWED]->(b:BEERS)-[:HAS_STYLE]->(s:STYLE)\n",
    "        RETURN bre.name AS Brewery, count(DISTINCT s.name) AS Total_Style\n",
    "        ORDER BY Total_Style DESC\n",
    "        LIMIT 3\n",
    "    \"\"\"\n",
    "\n",
    "result = execute_read(driver, query)\n",
    "\n",
    "pprint(result)"
   ]
  },
  {
   "cell_type": "markdown",
   "metadata": {},
   "source": [
    "`Question 5: Which country produces the most beer styles?`"
   ]
  },
  {
   "cell_type": "code",
   "execution_count": 81,
   "metadata": {},
   "outputs": [
    {
     "name": "stdout",
     "output_type": "stream",
     "text": [
      "[<Record Country='US' Total_style=113>]\n"
     ]
    }
   ],
   "source": [
    "# Question 5: Which country produces the most beer styles?\n",
    "query = \"\"\"\n",
    "        MATCH (country:COUNTRIES)<-[:IN]-(city:CITIES)<-[:IN]-(brewery:BREWERIES)-[:BREWED]->(beer:BEERS)-[:HAS_STYLE]->(s:STYLE)\n",
    "        RETURN country.name AS Country, COUNT(DISTINCT s.name) AS Total_style\n",
    "        ORDER BY Total_style DESC\n",
    "        LIMIT 1\n",
    "    \"\"\"\n",
    "\n",
    "result = execute_read(driver, query)\n",
    "\n",
    "pprint(result)"
   ]
  },
  {
   "cell_type": "markdown",
   "metadata": {},
   "source": [
    "<span style=\"color:salmon\">4. Market Analysis department in your company accesses and updates the trends data on the daily basis. Given that, consider how you need to optimize the database and its performance so that the following queries are efficient. Measure performance to communicate your improvements using PROFILE before final query. Answer the following: [4 points]\n",
    "\n",
    "1. Using ABV score, find five strongest beers, display their ABV score and the corresponding brewery? Keep in mind that the strongest known beer is Snake Venom, and deal with the error entries in the database.\n",
    "2. Using the answer from question 2, find the top 5 distict beer styles with the highest average score of smell + feel that were reviewed by the third most productive user. Keep in mind that cleaning the database earlier should ensure correct results.</span>\n"
   ]
  },
  {
   "cell_type": "markdown",
   "metadata": {},
   "source": [
    "`Question 4(A): Using ABV score, find five strongest beers, display their ABV score and the corresponding brewery? Keep in mind that the strongest known beer is Snake Venom, and deal with the error entries in the database.`"
   ]
  },
  {
   "cell_type": "code",
   "execution_count": 84,
   "metadata": {},
   "outputs": [
    {
     "name": "stdout",
     "output_type": "stream",
     "text": [
      "[<Record Beer_Name='Snake Venom' abv_score=67.5 Brewery='Brewmeister'>,\n",
      " <Record Beer_Name='series 3' abv_score=66.0 Brewery='Redline Brewhouse'>,\n",
      " <Record Beer_Name='Armageddon' abv_score=65.0 Brewery='Brewmeister'>,\n",
      " <Record Beer_Name='Start The Future' abv_score=60.0 Brewery=\"Brouwerij 't Koelschip\">,\n",
      " <Record Beer_Name='Schorschbräu Schorschbock 57%' abv_score=57.5 Brewery='Schorschbräu'>]\n"
     ]
    }
   ],
   "source": [
    "query = \"\"\"\n",
    "        PROFILE\n",
    "        MATCH (br:BREWERIES)-[:BREWED]->(b:BEERS)\n",
    "        WHERE b.abv IS NOT NULL AND b.abv <> \"\" \n",
    "          AND toFloat(b.abv) >= 0.5 AND toFloat(b.abv) <= 70  // Excludes non-alcoholic & extreme error entries in the database\n",
    "        RETURN DISTINCT b.name AS Beer_Name, toFloat(b.abv) AS abv_score, br.name AS Brewery\n",
    "        ORDER BY abv_score DESC\n",
    "        LIMIT 5;\n",
    "        \n",
    "    \"\"\"\n",
    "\n",
    "result = execute_read(driver, query)\n",
    "\n",
    "pprint(result)"
   ]
  },
  {
   "cell_type": "markdown",
   "metadata": {},
   "source": [
    "`Question 4(B): Using the answer from question 2, find the top 5 distict beer styles with the highest average score of smell + feel that were reviewed by the third most productive user. Keep in mind that cleaning the database earlier should ensure correct results.`"
   ]
  },
  {
   "cell_type": "code",
   "execution_count": 86,
   "metadata": {},
   "outputs": [
    {
     "name": "stdout",
     "output_type": "stream",
     "text": [
      "[<Record ThirdMostProductiveUser='kylehay2004' TotalReviews=3368>]\n"
     ]
    }
   ],
   "source": [
    "# first, third most productive user\n",
    "# second, find the top 5 distict beer styles based on highest average score (smell+feel) \n",
    "\n",
    "# step 1: Identify the third most productive user\n",
    "query = \"\"\"\n",
    "        MATCH (r:REVIEWS)-[:POSTED]->(u:USER)\n",
    "        RETURN u.name AS ThirdMostProductiveUser, COUNT(r) AS TotalReviews\n",
    "        ORDER BY TotalReviews DESC\n",
    "        SKIP 2\n",
    "        LIMIT 1\n",
    "\n",
    "    \"\"\"\n",
    "\n",
    "result = execute_read(driver, query)\n",
    "\n",
    "pprint(result)\n",
    "\n"
   ]
  },
  {
   "cell_type": "code",
   "execution_count": 87,
   "metadata": {},
   "outputs": [
    {
     "name": "stdout",
     "output_type": "stream",
     "text": [
      "[<Record Beer_style='New England IPA' Average_score=8.654761904761903>,\n",
      " <Record Beer_style='American Imperial Stout' Average_score=8.546363636363628>,\n",
      " <Record Beer_style='Bière de Champagne / Bière Brut' Average_score=8.5>,\n",
      " <Record Beer_style='Belgian Fruit Lambic' Average_score=8.444444444444445>,\n",
      " <Record Beer_style='Belgian Gueuze' Average_score=8.42857142857143>]\n"
     ]
    }
   ],
   "source": [
    "# third most productive user as \"kylehay2004\", with 3368 reviews.\n",
    "\n",
    "# step 2: Let's use this user to find the top 5 distict beer styles with the highest average score of smell + feel\n",
    "query = \"\"\"\n",
    "        PROFILE\n",
    "        MATCH (u:USER {name:'kylehay2004'})<-[:POSTED]-(r:REVIEWS)<-[:REVIEWED]-(b:BEERS)-[:HAS_STYLE]->(s:STYLE)\n",
    "        WHERE toFloat(r.smell) IS NOT NULL AND toFloat(r.feel) IS NOT NULL\n",
    "        WITH s.name AS Beer_style, AVG(toFloat(r.smell) + toFloat(r.feel)) AS Average_score\n",
    "        RETURN DISTINCT Beer_style, Average_score\n",
    "        ORDER BY Average_score DESC\n",
    "        LIMIT 5;\n",
    "\n",
    "    \"\"\"\n",
    "\n",
    "result = execute_read(driver, query)\n",
    "\n",
    "pprint(result)\n",
    "\n"
   ]
  },
  {
   "cell_type": "markdown",
   "metadata": {},
   "source": [
    "<span style=\"color:salmon\"> 5. Answer **two out of four** of the following questions using Graph Algorithms (gds): [NB: make sure to clear the graph before using it again] For the quarterly report, Analytics department the follownig information. [6 points]"
   ]
  },
  {
   "cell_type": "markdown",
   "metadata": {},
   "source": [
    "`Question 5(B). Which beer is the most popular when considering the number of users who reviewed it?`"
   ]
  },
  {
   "cell_type": "code",
   "execution_count": 90,
   "metadata": {},
   "outputs": [
    {
     "name": "stdout",
     "output_type": "stream",
     "text": [
      "[<Record beer_name='IPA' reviews=6884>]\n"
     ]
    }
   ],
   "source": [
    "# Frist, find the number of unique users who reviewed each beer.\n",
    "# second, sort the most popular of unique reviewers\n",
    "query = \"\"\"\n",
    "        MATCH (b:BEERS)-[:REVIEWED]-()-->(u:USER)\n",
    "        RETURN b.name AS beer_name, COUNT(DISTINCT u) AS reviews\n",
    "        ORDER BY reviews DESC\n",
    "        LIMIT 1;\n",
    "        \n",
    "    \"\"\"\n",
    "\n",
    "result = execute_read(driver, query)\n",
    "\n",
    "pprint(result)"
   ]
  },
  {
   "cell_type": "code",
   "execution_count": 91,
   "metadata": {},
   "outputs": [
    {
     "name": "stdout",
     "output_type": "stream",
     "text": [
      "ClientError('Failed to invoke procedure `gds.graph.drop`: Caused by: java.util.NoSuchElementException: Graph with name `most_popular_beer` does not exist on database `neo4j`. It might exist on another database.')\n"
     ]
    }
   ],
   "source": [
    "# Step 0 - Clear graph, graph names need to be unique\n",
    "try:\n",
    "    query = \"\"\"\n",
    "            CALL gds.graph.drop('most_popular_beer') YIELD graphName;\n",
    "        \"\"\"\n",
    "\n",
    "    result = execute_read(driver, query)\n",
    "\n",
    "    pprint(result)\n",
    "except Exception as e:\n",
    "    pprint(e)"
   ]
  },
  {
   "cell_type": "code",
   "execution_count": 92,
   "metadata": {},
   "outputs": [
    {
     "name": "stdout",
     "output_type": "stream",
     "text": [
      "[<Record nodeQuery='MATCH (n) WHERE n:USER OR n:BEERS RETURN id(n) AS id' relationshipQuery='MATCH (b:BEERS)-[]->(r:REVIEWS)-[]->(u:USER) \\n            RETURN id(b) AS source, id(r) AS weight, id(u) AS target' graphName='most_popular_beer' nodeCount=524391 relationshipCount=2537991 projectMillis=10636>]\n"
     ]
    }
   ],
   "source": [
    "# Step 1 - Create an appropriate graph (a subgraph)\n",
    "try:\n",
    "    query = \"\"\"\n",
    "        CALL gds.graph.project.cypher(\n",
    "            'most_popular_beer',\n",
    "            \n",
    "            'MATCH (n) WHERE n:USER OR n:BEERS RETURN id(n) AS id',\n",
    "            \n",
    "            'MATCH (b:BEERS)-[]->(r:REVIEWS)-[]->(u:USER) \n",
    "            RETURN id(b) AS source, id(r) AS weight, id(u) AS target'\n",
    "            );\n",
    "      \"\"\"\n",
    "    result = execute_read(driver, query)\n",
    "    pprint(result)\n",
    "except Exception as e:\n",
    "    pprint(e)\n",
    "    \n",
    "#     First we find all the nodes of type User, and return only id values. Use limit while checking!\n",
    "#     Second we look up the nodes and their relationships"
   ]
  },
  {
   "cell_type": "code",
   "execution_count": 93,
   "metadata": {},
   "outputs": [
    {
     "name": "stdout",
     "output_type": "stream",
     "text": [
      "[<Record id=62212>,\n",
      " <Record id=62213>,\n",
      " <Record id=62214>,\n",
      " <Record id=62215>,\n",
      " <Record id=62216>]\n"
     ]
    }
   ],
   "source": [
    "# Step 1 - part 1\n",
    "try:\n",
    "    query = \"\"\"\n",
    "            MATCH (n) WHERE n:USER OR n:BEERS RETURN id(n) AS id\n",
    "            LIMIT 5\n",
    "        \"\"\"\n",
    "    result = execute_read(driver, query)\n",
    "    pprint(result)\n",
    "except Exception as e:\n",
    "    pprint(e)"
   ]
  },
  {
   "cell_type": "code",
   "execution_count": 94,
   "metadata": {},
   "outputs": [
    {
     "name": "stdout",
     "output_type": "stream",
     "text": [
      "[<Record source=391237 weight=590677 target=9494326>,\n",
      " <Record source=383463 weight=9486825 target=9494326>,\n",
      " <Record source=381076 weight=9461714 target=9494326>,\n",
      " <Record source=383077 weight=9470942 target=9494326>,\n",
      " <Record source=382144 weight=9450483 target=9494326>,\n",
      " <Record source=381175 weight=9438979 target=9494326>,\n",
      " <Record source=380254 weight=9411144 target=9494326>,\n",
      " <Record source=380355 weight=9418405 target=9494326>,\n",
      " <Record source=380240 weight=9414784 target=9494326>,\n",
      " <Record source=378010 weight=9379568 target=9494326>,\n",
      " <Record source=377230 weight=9354326 target=9494326>,\n",
      " <Record source=376945 weight=9356927 target=9494326>,\n",
      " <Record source=376609 weight=9342994 target=9494326>,\n",
      " <Record source=376581 weight=9343498 target=9494326>,\n",
      " <Record source=375278 weight=9328626 target=9494326>]\n"
     ]
    }
   ],
   "source": [
    "# Step 1 - part 2\n",
    "try:\n",
    "    query = \"\"\"\n",
    "            MATCH (b:BEERS)-[:REVIEWED]->(r:REVIEWS)-[]->(u:USER) \n",
    "            RETURN id(b) AS source, id(r) AS weight, id(u) AS target\n",
    "            LIMIT 15\n",
    "        \"\"\"\n",
    "\n",
    "    result = execute_read(driver, query)\n",
    "\n",
    "    pprint(result)\n",
    "except Exception as e:\n",
    "    pprint(e)"
   ]
  },
  {
   "cell_type": "code",
   "execution_count": 95,
   "metadata": {},
   "outputs": [
    {
     "name": "stdout",
     "output_type": "stream",
     "text": [
      "[<Record name='Sammy' score=142.77564254316593>,\n",
      " <Record name='kylehay2004' score=113.24955466651426>,\n",
      " <Record name='StonedTrippin' score=99.96875878674035>,\n",
      " <Record name='Boone757' score=99.79166853566377>,\n",
      " <Record name='jaydoc' score=95.27986013569483>,\n",
      " <Record name='biboergosum' score=86.12672689371412>,\n",
      " <Record name='UCLABrewN84' score=85.0241176258547>,\n",
      " <Record name='Gagnonsux' score=81.38276174413348>,\n",
      " <Record name='LXIXME' score=79.01240243193882>,\n",
      " <Record name='Taphouse_Traveler' score=76.4680029435584>]\n"
     ]
    }
   ],
   "source": [
    "# Step 2 - Run the algorithm\n",
    "\n",
    "try:\n",
    "    query = \"\"\"\n",
    "        CALL gds.pageRank.stream('most_popular_beer', {relationshipWeightProperty:'weight'})\n",
    "            \n",
    "            YIELD nodeId, score\n",
    "            \n",
    "            RETURN gds.util.asNode(nodeId).name AS name, score\n",
    "            \n",
    "            ORDER BY score desc\n",
    "            LIMIT 10\n",
    "        \"\"\"\n",
    "    result = execute_read(driver, query)\n",
    "    pprint(result)\n",
    "except Exception as e:\n",
    "    pprint(e)\n",
    "    \n",
    "# yield: In the stream execution mode, the algorithm returns the score for each node. \n",
    "# This allows us to inspect the results directly or post-process them in Cypher without any side effects.    \n",
    "# return: retrieves username based on node ID, and the calculated score"
   ]
  },
  {
   "cell_type": "markdown",
   "metadata": {},
   "source": [
    "`Question 5(D). Which user is the most influential when it comes to reviews of distinct beers by style?`"
   ]
  },
  {
   "cell_type": "code",
   "execution_count": 97,
   "metadata": {},
   "outputs": [
    {
     "name": "stdout",
     "output_type": "stream",
     "text": [
      "[<Record username='biboergosum' distinct_styles_reviewed=110>]\n"
     ]
    }
   ],
   "source": [
    "query = \"\"\"\n",
    "        MATCH (u:USER)<-[:POSTED]-(:REVIEWS)<-[:REVIEWED]-(b:BEERS)-[:HAS_STYLE]->(s:STYLE)\n",
    "        RETURN u.name AS username, COUNT(DISTINCT s) AS distinct_styles_reviewed\n",
    "        ORDER BY distinct_styles_reviewed DESC\n",
    "        LIMIT 1;\n",
    "    \"\"\"\n",
    "\n",
    "result = execute_read(driver, query)\n",
    "\n",
    "pprint(result)"
   ]
  },
  {
   "cell_type": "code",
   "execution_count": 98,
   "metadata": {},
   "outputs": [
    {
     "name": "stdout",
     "output_type": "stream",
     "text": [
      "ClientError('Failed to invoke procedure `gds.graph.drop`: Caused by: java.util.NoSuchElementException: Graph with name `top_influential_reviewers` does not exist on database `neo4j`. It might exist on another database.')\n"
     ]
    }
   ],
   "source": [
    "# Step 0 - Clear graph, graph names need to be unique\n",
    "\n",
    "try:\n",
    "    query = \"\"\"\n",
    "            CALL gds.graph.drop('top_influential_reviewers') YIELD graphName;\n",
    "        \"\"\"\n",
    "\n",
    "    result = execute_read(driver, query)\n",
    "\n",
    "    pprint(result)\n",
    "except Exception as e:\n",
    "    pprint(e)"
   ]
  },
  {
   "cell_type": "code",
   "execution_count": 99,
   "metadata": {},
   "outputs": [
    {
     "name": "stdout",
     "output_type": "stream",
     "text": [
      "[<Record nodeQuery='MATCH (n:USER) RETURN id(n) AS id\\n     UNION\\n     MATCH (n:STYLE) RETURN id(n) AS id' relationshipQuery='MATCH (u:USER)<-[:POSTED]-(r:REVIEWS)<-[:REVIEWED]-(b:BEERS)-[:HAS_STYLE]->(s:STYLE)\\n              RETURN id(s) AS source, COUNT(DISTINCT r) AS weight, id(u) AS target' graphName='top_influential_reviewers' nodeCount=106758 relationshipCount=893394 projectMillis=12210>]\n"
     ]
    }
   ],
   "source": [
    "# Step 1 - Create an appropriate graph (a subgraph)\n",
    "\n",
    "try:\n",
    "    query = \"\"\"\n",
    "        CALL gds.graph.project.cypher(\n",
    "            'top_influential_reviewers',\n",
    "            \n",
    "            'MATCH (n:USER) RETURN id(n) AS id\n",
    "     UNION\n",
    "     MATCH (n:STYLE) RETURN id(n) AS id',\n",
    "            \n",
    "            'MATCH (u:USER)<-[:POSTED]-(r:REVIEWS)<-[:REVIEWED]-(b:BEERS)-[:HAS_STYLE]->(s:STYLE)\n",
    "              RETURN id(s) AS source, COUNT(DISTINCT r) AS weight, id(u) AS target'\n",
    "            )\n",
    "      \"\"\"\n",
    "    result = execute_read(driver, query)\n",
    "    pprint(result)\n",
    "except Exception as e:\n",
    "    pprint(e)\n",
    "    \n",
    "#     First we find all the nodes of type User, and return only id values. Use limit while checking!\n",
    "#     Second we look up the nodes and their relationships"
   ]
  },
  {
   "cell_type": "code",
   "execution_count": 100,
   "metadata": {},
   "outputs": [
    {
     "name": "stdout",
     "output_type": "stream",
     "text": [
      "[<Record id=62212>,\n",
      " <Record id=62213>,\n",
      " <Record id=62214>,\n",
      " <Record id=62215>,\n",
      " <Record id=62216>]\n"
     ]
    }
   ],
   "source": [
    "# Step 1 - part 1\n",
    "try:\n",
    "    query = \"\"\"\n",
    "            MATCH (n) WHERE n:USER OR n:BEERS OR n:STYLE RETURN id(n) AS id\n",
    "            LIMIT 5     \n",
    "        \"\"\"\n",
    "    result = execute_read(driver, query)\n",
    "    pprint(result)\n",
    "except Exception as e:\n",
    "    pprint(e)"
   ]
  },
  {
   "cell_type": "code",
   "execution_count": 101,
   "metadata": {},
   "outputs": [
    {
     "name": "stdout",
     "output_type": "stream",
     "text": [
      "[<Record source=9496328 weight=5 target=9494213>,\n",
      " <Record source=9497034 weight=2 target=9494213>,\n",
      " <Record source=9498009 weight=3 target=9494213>,\n",
      " <Record source=9502849 weight=17 target=9494213>,\n",
      " <Record source=9500501 weight=3 target=9494213>,\n",
      " <Record source=9495649 weight=6 target=9494213>,\n",
      " <Record source=9495368 weight=12 target=9494213>,\n",
      " <Record source=9497555 weight=5 target=9494213>,\n",
      " <Record source=9494608 weight=20 target=9494213>,\n",
      " <Record source=9494722 weight=10 target=9494213>,\n",
      " <Record source=9496475 weight=9 target=9494213>,\n",
      " <Record source=9494443 weight=5 target=9494213>,\n",
      " <Record source=9497782 weight=5 target=9494213>,\n",
      " <Record source=9499910 weight=1 target=9494213>,\n",
      " <Record source=9497486 weight=5 target=9494213>]\n"
     ]
    }
   ],
   "source": [
    "# Step 1 - part 2\n",
    "try:\n",
    "    query = \"\"\"\n",
    "            MATCH (u:USER)<-[:POSTED]-(r:REVIEWS)<-[:REVIEWED]-(b:BEERS)-[:HAS_STYLE]->(s:STYLE)\n",
    "              RETURN id(u) AS source, COUNT(DISTINCT r) AS weight, id(s) AS target\n",
    "            LIMIT 15\n",
    "        \"\"\"\n",
    "\n",
    "    result = execute_read(driver, query)\n",
    "\n",
    "    pprint(result)\n",
    "except Exception as e:\n",
    "    pprint(e)"
   ]
  },
  {
   "cell_type": "code",
   "execution_count": 102,
   "metadata": {},
   "outputs": [
    {
     "name": "stdout",
     "output_type": "stream",
     "text": [
      "[<Record username='UncleJimbo' score=0.28316456922531064>,\n",
      " <Record username='COBEERHUNTER' score=0.27898149412557394>,\n",
      " <Record username='Sammy' score=0.17535818328182645>,\n",
      " <Record username='StonedTrippin' score=0.1715732288997433>,\n",
      " <Record username='metter98' score=0.17126383682053803>,\n",
      " <Record username='kojevergas' score=0.16975931325793306>,\n",
      " <Record username='emerge077' score=0.16923465799839393>,\n",
      " <Record username='biboergosum' score=0.16916817882643637>,\n",
      " <Record username='UCLABrewN84' score=0.16905493493162493>,\n",
      " <Record username='Knapp85' score=0.16885498206504798>]\n"
     ]
    }
   ],
   "source": [
    "# Step 2 - Run the algorithm\n",
    "\n",
    "try:\n",
    "    query = \"\"\"\n",
    "        CALL gds.pageRank.stream('top_influential_reviewers', {relationshipWeightProperty:'weight'})\n",
    "            \n",
    "            YIELD nodeId, score\n",
    "            \n",
    "            RETURN gds.util.asNode(nodeId).name AS username, score\n",
    "            ORDER BY score DESC\n",
    "            LIMIT 10;\n",
    "        \"\"\"\n",
    "    result = execute_read(driver, query)\n",
    "    pprint(result)\n",
    "except Exception as e:\n",
    "    pprint(e)\n",
    "    \n",
    "# yield: In the stream execution mode, the algorithm returns the score for each node. \n",
    "# This allows us to inspect the results directly or post-process them in Cypher without any side effects.    \n",
    "# return: retrieves username based on node ID, and the calculated score"
   ]
  },
  {
   "cell_type": "code",
   "execution_count": null,
   "metadata": {},
   "outputs": [],
   "source": []
  },
  {
   "cell_type": "code",
   "execution_count": null,
   "metadata": {},
   "outputs": [],
   "source": []
  }
 ],
 "metadata": {
  "hide_input": false,
  "kernelspec": {
   "display_name": "Python 3 (ipykernel)",
   "language": "python",
   "name": "python3"
  },
  "language_info": {
   "codemirror_mode": {
    "name": "ipython",
    "version": 3
   },
   "file_extension": ".py",
   "mimetype": "text/x-python",
   "name": "python",
   "nbconvert_exporter": "python",
   "pygments_lexer": "ipython3",
   "version": "3.12.2"
  },
  "toc": {
   "base_numbering": 1,
   "nav_menu": {},
   "number_sections": true,
   "sideBar": true,
   "skip_h1_title": false,
   "title_cell": "Table of Contents",
   "title_sidebar": "Contents",
   "toc_cell": false,
   "toc_position": {},
   "toc_section_display": true,
   "toc_window_display": false
  },
  "varInspector": {
   "cols": {
    "lenName": 16,
    "lenType": 16,
    "lenVar": 40
   },
   "kernels_config": {
    "python": {
     "delete_cmd_postfix": "",
     "delete_cmd_prefix": "del ",
     "library": "var_list.py",
     "varRefreshCmd": "print(var_dic_list())"
    },
    "r": {
     "delete_cmd_postfix": ") ",
     "delete_cmd_prefix": "rm(",
     "library": "var_list.r",
     "varRefreshCmd": "cat(var_dic_list()) "
    }
   },
   "types_to_exclude": [
    "module",
    "function",
    "builtin_function_or_method",
    "instance",
    "_Feature"
   ],
   "window_display": false
  }
 },
 "nbformat": 4,
 "nbformat_minor": 4
}
